{
 "cells": [
  {
   "cell_type": "markdown",
   "id": "781dcfa9-14a9-4094-b8a5-b41a0842b578",
   "metadata": {},
   "source": [
    "# Training a Digit Classifier"
   ]
  },
  {
   "cell_type": "code",
   "execution_count": null,
   "id": "470b2078-d35c-4802-b490-cca33d9234c4",
   "metadata": {},
   "outputs": [],
   "source": [
    "from pathlib import Path\n",
    "\n",
    "import jax\n",
    "import jax.numpy as jnp\n",
    "from matplotlib import pyplot as plt\n",
    "from PIL import Image\n",
    "\n",
    "plt.rcParams[\"image.cmap\"] = \"gray\""
   ]
  },
  {
   "cell_type": "code",
   "execution_count": null,
   "id": "06452097-27d2-4367-b97c-ec9ec4d3acbb",
   "metadata": {},
   "outputs": [],
   "source": [
    "mnist_path = Path(\"~/.fastai/data/mnist_sample/\").expanduser()"
   ]
  },
  {
   "cell_type": "code",
   "execution_count": null,
   "id": "10b22d30-e25b-4777-9222-636bc48c9b56",
   "metadata": {},
   "outputs": [],
   "source": [
    "if not mnist_path.exists():\n",
    "    import fastbook\n",
    "\n",
    "    fastbook.untar_data(fastbook.URLs.MNIST_SAMPLE)"
   ]
  },
  {
   "cell_type": "code",
   "execution_count": null,
   "id": "be195b09-8973-4901-9418-3cdd897d799b",
   "metadata": {},
   "outputs": [],
   "source": [
    "threes = list(mnist_path.glob(\"train/3/*.png\"))\n",
    "sevens = list(mnist_path.glob(\"train/7/*.png\"))"
   ]
  },
  {
   "cell_type": "code",
   "execution_count": null,
   "id": "fb841172-78a8-4479-ae02-24e6d0174085",
   "metadata": {},
   "outputs": [],
   "source": [
    "len(threes), len(sevens)"
   ]
  },
  {
   "cell_type": "code",
   "execution_count": null,
   "id": "8ee2f3b3-1edc-4fc5-b682-61d38c90641c",
   "metadata": {},
   "outputs": [],
   "source": [
    "im3_path = threes[1]\n",
    "im3 = Image.open(im3_path)\n",
    "im3"
   ]
  },
  {
   "cell_type": "code",
   "execution_count": null,
   "id": "c0689386-9718-422e-97d6-c3f35ed79572",
   "metadata": {},
   "outputs": [],
   "source": [
    "jnp.array(im3)[4:9, 4:9]"
   ]
  },
  {
   "cell_type": "markdown",
   "id": "ab8e0c78-63e0-4028-9a77-5f28de41ffa1",
   "metadata": {},
   "source": [
    "Generally, when images are floats, the pixel values are expected to be between 0 and 1,\n",
    "so we will also divide by 255 here"
   ]
  },
  {
   "cell_type": "code",
   "execution_count": null,
   "id": "16e8107b-e49c-4c4d-9c48-d5ae8414a7b1",
   "metadata": {},
   "outputs": [],
   "source": [
    "stacked_threes = jnp.stack([jnp.array(Image.open(p)) for p in threes]) / 255\n",
    "stacked_sevens = jnp.stack([jnp.array(Image.open(p)) for p in sevens]) / 255\n",
    "stacked_threes.shape, stacked_sevens.shape"
   ]
  },
  {
   "cell_type": "code",
   "execution_count": null,
   "id": "d86a0043-f8f4-4db1-9e5c-3ec616a0f0bf",
   "metadata": {},
   "outputs": [],
   "source": [
    "plt.imshow(stacked_threes[0])"
   ]
  },
  {
   "cell_type": "code",
   "execution_count": null,
   "id": "6cb876c9-31d3-48f2-87d3-4d2af0ddd501",
   "metadata": {},
   "outputs": [],
   "source": [
    "valid_3s = (\n",
    "    jnp.stack([jnp.array(Image.open(p)) for p in mnist_path.glob(\"valid/3/*.png\")])\n",
    "    / 255\n",
    ")\n",
    "valid_7s = (\n",
    "    jnp.stack([jnp.array(Image.open(p)) for p in mnist_path.glob(\"valid/7/*.png\")])\n",
    "    / 255\n",
    ")"
   ]
  },
  {
   "cell_type": "markdown",
   "id": "db334d16-c433-498c-852b-12c2d4d65058",
   "metadata": {
    "jp-MarkdownHeadingCollapsed": true,
    "tags": []
   },
   "source": [
    "### Comparing with the perfect 3 and 7"
   ]
  },
  {
   "cell_type": "code",
   "execution_count": null,
   "id": "e493070d-d80e-4564-83ce-8cb6597c16bf",
   "metadata": {},
   "outputs": [],
   "source": [
    "mean_3 = jnp.mean(stacked_threes, axis=0)\n",
    "plt.imshow(mean_3)"
   ]
  },
  {
   "cell_type": "code",
   "execution_count": null,
   "id": "b7012c0d-5869-4f6d-a2cc-8bd5a59b465d",
   "metadata": {},
   "outputs": [],
   "source": [
    "mean_3[4:9, 4:9]"
   ]
  },
  {
   "cell_type": "code",
   "execution_count": null,
   "id": "693de391-141b-499f-9115-02a58d1097d3",
   "metadata": {},
   "outputs": [],
   "source": [
    "mean_7 = jnp.mean(stacked_sevens, axis=0)\n",
    "plt.imshow(mean_7)"
   ]
  },
  {
   "cell_type": "code",
   "execution_count": null,
   "id": "0448f4d6-818f-4ec4-a6af-5d1304893992",
   "metadata": {},
   "outputs": [],
   "source": [
    "def mnist_distance(a: jnp.ndarray, b: jnp.ndarray):\n",
    "    return jnp.mean(jnp.abs(a - b), axis=(-2, -1))"
   ]
  },
  {
   "cell_type": "code",
   "execution_count": null,
   "id": "0e54d7e9-2cfb-4bdb-9144-8f000f0379a5",
   "metadata": {},
   "outputs": [],
   "source": [
    "example_3 = stacked_threes[0]"
   ]
  },
  {
   "cell_type": "code",
   "execution_count": null,
   "id": "0b3a131a-c30a-43a1-a48d-873911bc2cde",
   "metadata": {},
   "outputs": [],
   "source": [
    "mnist_distance(example_3, mean_3), mnist_distance(example_3, mean_7)"
   ]
  },
  {
   "cell_type": "code",
   "execution_count": null,
   "id": "a9010ed9-677a-4b21-b938-697781715e52",
   "metadata": {},
   "outputs": [],
   "source": [
    "valid_3_to_3 = mnist_distance(valid_3s, mean_3)\n",
    "valid_3_to_7 = mnist_distance(valid_3s, mean_7)\n",
    "valid_7_to_3 = mnist_distance(valid_7s, mean_3)\n",
    "valid_7_to_7 = mnist_distance(valid_7s, mean_7)"
   ]
  },
  {
   "cell_type": "markdown",
   "id": "f0de3c78-da6c-4ed2-b107-aa5992d68965",
   "metadata": {},
   "source": [
    "How many 3s are detected as 3?"
   ]
  },
  {
   "cell_type": "code",
   "execution_count": null,
   "id": "6d541777-f628-4120-9130-4c0b14165cf0",
   "metadata": {},
   "outputs": [],
   "source": [
    "percision_3 = jnp.sum(valid_3_to_3 < valid_3_to_7) / valid_3s.shape[0]\n",
    "percision_3"
   ]
  },
  {
   "cell_type": "code",
   "execution_count": null,
   "id": "8cf3c6a8-0ce6-4966-b4e1-8e70ec32dcdc",
   "metadata": {},
   "outputs": [],
   "source": [
    "percision_7 = jnp.sum(valid_7_to_7 < valid_7_to_3) / valid_7s.shape[0]\n",
    "percision_7"
   ]
  },
  {
   "cell_type": "code",
   "execution_count": null,
   "id": "94dea4d0-a40f-41dc-8806-797aad485fd6",
   "metadata": {},
   "outputs": [],
   "source": [
    "(percision_3 + percision_7) / 2"
   ]
  },
  {
   "cell_type": "markdown",
   "id": "b0095546-e207-4216-8ae8-70d578006161",
   "metadata": {},
   "source": [
    "When a image is claimed as 3, how much chance will it be accually 3?"
   ]
  },
  {
   "cell_type": "code",
   "execution_count": null,
   "id": "b8971238-a339-4dda-a1da-4c8a0ff44826",
   "metadata": {},
   "outputs": [],
   "source": [
    "recall_3 = (\n",
    "    percision_3\n",
    "    * valid_3s.shape[0]\n",
    "    / (percision_3 * valid_3s.shape[0] + (1 - percision_7) * valid_7s.shape[0])\n",
    ")\n",
    "recall_3"
   ]
  },
  {
   "cell_type": "markdown",
   "id": "ce2ad700-9b92-4480-83a9-484354f6f3d7",
   "metadata": {},
   "source": [
    "### SGD"
   ]
  },
  {
   "cell_type": "code",
   "execution_count": null,
   "id": "46c0d226-87c3-4902-8720-3ffd7e89f49b",
   "metadata": {},
   "outputs": [],
   "source": [
    "train_x = jnp.reshape(jnp.concatenate([stacked_threes, stacked_sevens]), (-1, 28 * 28))\n",
    "train_y = jnp.expand_dims(\n",
    "    jnp.concatenate(\n",
    "        [\n",
    "            jnp.ones(stacked_threes.shape[0]),\n",
    "            jnp.zeros(stacked_sevens.shape[0]),\n",
    "        ]\n",
    "    ),\n",
    "    axis=1,\n",
    ")\n",
    "train_x.shape, train_y.shape"
   ]
  },
  {
   "cell_type": "code",
   "execution_count": null,
   "id": "ee59144c-e3fc-4ccd-8760-fc21782137cc",
   "metadata": {},
   "outputs": [],
   "source": [
    "key = jax.random.PRNGKey(42)"
   ]
  },
  {
   "cell_type": "code",
   "execution_count": null,
   "id": "6e480ffc-ee3d-4dbc-89d2-7739ed4d9d61",
   "metadata": {},
   "outputs": [],
   "source": [
    "def init_params(key, shape, std=1.0):\n",
    "    return jax.random.normal(key, shape) * std"
   ]
  },
  {
   "cell_type": "code",
   "execution_count": null,
   "id": "9abceeaa-b2b0-4dc2-96b1-a33d5ae6ac91",
   "metadata": {},
   "outputs": [],
   "source": [
    "key, subkey = jax.random.split(key)\n",
    "weights = init_params(subkey, (28 * 28, 1))"
   ]
  },
  {
   "cell_type": "code",
   "execution_count": null,
   "id": "2092263a-2dc6-4103-a366-810ec41f9fd4",
   "metadata": {},
   "outputs": [],
   "source": [
    "key, subkey = jax.random.split(key)\n",
    "bias = init_params(subkey, (1,))"
   ]
  },
  {
   "cell_type": "code",
   "execution_count": null,
   "id": "fa10b30e-5c7b-424a-8db2-ee2bbe0a4739",
   "metadata": {},
   "outputs": [],
   "source": [
    "jnp.sum(weights.T * train_x[0]) + bias"
   ]
  },
  {
   "cell_type": "code",
   "execution_count": null,
   "id": "34427373-3d49-487a-94ba-97a238e80efb",
   "metadata": {},
   "outputs": [],
   "source": [
    "train_x.shape, weights.shape"
   ]
  },
  {
   "cell_type": "code",
   "execution_count": null,
   "id": "69259598-efd2-44de-a7db-4e0cd82c0cfa",
   "metadata": {},
   "outputs": [],
   "source": [
    "def linear1(xb):\n",
    "    return xb @ weights + bias"
   ]
  },
  {
   "cell_type": "code",
   "execution_count": null,
   "id": "c84ffdf3-609e-43bb-8d70-5e50437a7a74",
   "metadata": {},
   "outputs": [],
   "source": [
    "pred = linear1(train_x)\n",
    "pred"
   ]
  },
  {
   "cell_type": "code",
   "execution_count": null,
   "id": "63f9cb03-8a50-462e-8912-5b0d3f7a3959",
   "metadata": {},
   "outputs": [],
   "source": [
    "corrects = (pred > 0) == train_y\n",
    "jnp.mean(corrects)"
   ]
  },
  {
   "cell_type": "markdown",
   "id": "35f21e92-241a-4208-96fd-968381f3496f",
   "metadata": {},
   "source": [
    "> The problem is that a small change in weights from `x_old` to `x_new` isn’t likely to cause any prediction to change, so `(y_new – y_old)` will almost always be 0. In other words, the gradient is 0 almost everywhere."
   ]
  },
  {
   "cell_type": "markdown",
   "id": "14a7bf59-a38b-45c2-b8af-9e345906cd6a",
   "metadata": {},
   "source": [
    "Instead of modifying the 0th weight, let's find the weight which is the most important.\n",
    "That's because the 0th pixel is usually 0, and changing the 0th weight will not lead to any difference. If changing the most important weight is not making any difference, the loss function is indeed bad."
   ]
  },
  {
   "cell_type": "code",
   "execution_count": null,
   "id": "d7df6a55-ef86-4d8e-8abb-78c0c314a33c",
   "metadata": {
    "tags": []
   },
   "outputs": [],
   "source": [
    "pixels_mean = jnp.mean(train_x, axis=0)\n",
    "significant_index = jnp.argmax(jnp.mean(train_x, axis=0)).item()\n",
    "pixels_mean[0].item(), significant_index"
   ]
  },
  {
   "cell_type": "code",
   "execution_count": null,
   "id": "a6e819b1-9958-42b3-bf70-b6ec93b9ea4f",
   "metadata": {},
   "outputs": [],
   "source": [
    "weights = weights.at[significant_index].multiply(1.0001)\n",
    "jnp.mean((linear1(train_x) > 0) == train_y)"
   ]
  },
  {
   "cell_type": "markdown",
   "id": "407e8a38-45da-466e-bec2-e1e6ca6dae4c",
   "metadata": {},
   "source": [
    "> A very small change in the value of a weight will often not change the accuracy at all. This means it is not useful to use accuracy as a loss function."
   ]
  },
  {
   "cell_type": "markdown",
   "id": "cf1d36f9-f160-4f0b-b576-43bde0d942cf",
   "metadata": {},
   "source": [
    "We choose the (vector) distance between the true value and the prediction.\n",
    "\n",
    "```python\n",
    "trgts = tensor([1,0,1])\n",
    "prds = tensor([0.9, 0.4, 0.2])\n",
    "```"
   ]
  },
  {
   "cell_type": "code",
   "execution_count": null,
   "id": "4177e8f4-494b-404b-ada5-a22ff5196795",
   "metadata": {
    "tags": []
   },
   "outputs": [],
   "source": [
    "def mnist_loss(predictions, targets):\n",
    "    # The predictions should lie in [0, 1] range\n",
    "    # normalized_pred = jax.nn.sigmoid(predictions)\n",
    "    normalized_pred = predictions\n",
    "    return jnp.mean((normalized_pred - targets) ** 2)"
   ]
  },
  {
   "cell_type": "markdown",
   "id": "e4cf208c-e681-4c4d-9f41-e1a601c0833f",
   "metadata": {},
   "source": [
    "As you can see, the new loss function is better."
   ]
  },
  {
   "cell_type": "code",
   "execution_count": null,
   "id": "828eaa76-21ce-4460-9199-55704356be00",
   "metadata": {
    "tags": []
   },
   "outputs": [],
   "source": [
    "mnist_loss(pred, train_y)"
   ]
  },
  {
   "cell_type": "code",
   "execution_count": null,
   "id": "a0e46038-a93b-4db7-bc62-0a3297fbd058",
   "metadata": {
    "tags": []
   },
   "outputs": [],
   "source": [
    "mnist_loss(linear1(train_x), train_y)"
   ]
  },
  {
   "cell_type": "code",
   "execution_count": null,
   "id": "413603d6-88f5-4150-a8b0-6d4c9baedab6",
   "metadata": {},
   "outputs": [],
   "source": [
    "?jnp.sigmoid"
   ]
  },
  {
   "cell_type": "code",
   "execution_count": null,
   "id": "ec95fef3-7b42-4312-b36d-3e4b3db9225a",
   "metadata": {},
   "outputs": [],
   "source": []
  }
 ],
 "metadata": {
  "kernelspec": {
   "display_name": "Python 3 (ipykernel)",
   "language": "python",
   "name": "python3"
  },
  "language_info": {
   "codemirror_mode": {
    "name": "ipython",
    "version": 3
   },
   "file_extension": ".py",
   "mimetype": "text/x-python",
   "name": "python",
   "nbconvert_exporter": "python",
   "pygments_lexer": "ipython3"
  }
 },
 "nbformat": 4,
 "nbformat_minor": 5
}
